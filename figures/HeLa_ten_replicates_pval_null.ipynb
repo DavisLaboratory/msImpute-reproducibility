{
 "cells": [
  {
   "cell_type": "code",
   "execution_count": 1,
   "metadata": {},
   "outputs": [
    {
     "name": "stderr",
     "output_type": "stream",
     "text": [
      "\u001b[36mℹ\u001b[39m Loading \u001b[34m\u001b[34mmsImpute\u001b[34m\u001b[39m\n",
      "\n"
     ]
    }
   ],
   "source": [
    "suppressPackageStartupMessages({\n",
    "    library(limma)\n",
    "    # library(pcaMethods)\n",
    "    # library(PEMM)\n",
    "    # library(missForest)\n",
    "    # library(mice)\n",
    "\n",
    "    library(rrcovNA)\n",
    "    library(imputeLCMD)\n",
    "})\n",
    "\n",
    "options(warn = -1)\n",
    "\n",
    "\n",
    "\n",
    "impute.perseus <- function(x, width=0.3, shift=1.8) {\n",
    "  # distributions are induced by measured values in each sample\n",
    "  data.mean <- colMeans(x, na.rm = TRUE)\n",
    "  data.sd <- matrixStats::colSds(x, na.rm = TRUE)\n",
    "  n <- nrow(x)\n",
    "  z <- rmvnorm(n, mean = data.mean - shift*data.sd , sigma = diag(data.sd*width))\n",
    "  x[is.na(x)] <- z[is.na(x)]\n",
    "  return(x)\n",
    "}\n",
    "\n",
    "fig.size <- function (height, width) {\n",
    "    options(repr.plot.height = height, repr.plot.width = width, repr.plot.res = 200)\n",
    "}\n",
    "\n",
    "devtools::load_all(\"/stornext/General/data/academic/lab_davis/prot/benchmarking/msImpute/\")\n"
   ]
  },
  {
   "cell_type": "code",
   "execution_count": 2,
   "metadata": {},
   "outputs": [
    {
     "data": {
      "text/plain": [
       "\n",
       "TIMS-MULTI-MATCH  TIMS-MULTI-MSMS \n",
       "          186399           448067 "
      ]
     },
     "metadata": {},
     "output_type": "display_data"
    },
    {
     "data": {
      "text/plain": [
       "\n",
       " FALSE   TRUE \n",
       "616165  18301 "
      ]
     },
     "metadata": {},
     "output_type": "display_data"
    },
    {
     "data": {
      "text/plain": [
       "\n",
       " FALSE   TRUE \n",
       "  1681 632785 "
      ]
     },
     "metadata": {},
     "output_type": "display_data"
    }
   ],
   "source": [
    "data <- read.delim(\"/stornext/General/data/academic/lab_davis/prot/benchmarking/PXD014777/HeLa_10_replicates_2hr/evidence.txt\", \n",
    "                   stringsAsFactors = FALSE)\n",
    "\n",
    "\n",
    "\n",
    "\n",
    "table(data$Type)\n",
    "table(grepl(\"CON_|REV_\", data$Leading.razor.protein))\n",
    "table(data$Charge > 1)\n",
    "\n",
    "\n",
    "data <- data[grep(\"CON_|REV_\", data$Leading.razor.protein, invert=TRUE),]\n",
    "data <- data[data$Charge > 1 & (data$Modifications %in% \"Unmodified\"),]\n",
    "data$PeptideID <- paste0(data$Modified.sequence, data$Charge)\n",
    "data$matrix.row.id <- paste(data$PeptideID, data$Leading.Razor.Protein, sep =\"_\")\n",
    "\n",
    "\n",
    "genes <- data[,c(\"PeptideID\",\"matrix.row.id\", \"Leading.razor.protein\")]\n",
    "genes <- genes[!duplicated(genes),]\n",
    "\n",
    "\n",
    "y <- evidenceToMatrix(data[data$Type %in% \"TIMS-MULTI-MSMS\",])\n",
    "\n",
    "\n",
    "y <- log2(y)\n",
    "y <- y[rowSums(!is.na(y)) >=4,]\n",
    "\n",
    "#ensure column names are allowed names\n",
    "colnames(y) <- gsub(\"-\",\"_\", colnames(y))\n",
    "genes <- genes[match(rownames(y), genes$PeptideID),]\n",
    "rownames(y) <- genes$matrix.row.id\n"
   ]
  },
  {
   "cell_type": "markdown",
   "metadata": {},
   "source": [
    "### Imputation"
   ]
  },
  {
   "cell_type": "code",
   "execution_count": 3,
   "metadata": {},
   "outputs": [],
   "source": [
    "# long runs - pre-computed \n",
    "\n",
    "# message(\"LLS\")\n",
    "# Sys.time()\n",
    "# y_lls <- llsImpute(t(y))\n",
    "# y_lls <- t(completeObs(y_lls))\n",
    "\n",
    "# message(\"Imputation in progress\")\n",
    "# message(\"RF\")\n",
    "# Sys.time()\n",
    "# y_rf <- missForest(y)\n",
    "# y_rf <- y_rf$ximp\n",
    "\n",
    "\n",
    "\n",
    "# message(\"Imputation in progress (column-wise imputation)\")\n",
    "# message(\"mice\")\n",
    "# Sys.time()\n",
    "# # From mice -----\n",
    "\n",
    "\n",
    "# colnames(y) <- gsub(\"_\",\"\", colnames(y))\n",
    "# colnames(y) <- NULL\n",
    "# y_mice <- mice(y)\n",
    "# y_mice <- complete(y_mice)\n",
    "\n",
    "\n",
    "\n",
    "# message(\"EM\")\n",
    "# Sys.time()\n",
    "# # from PEMM ----\n",
    "# y_em <- PEMM_fun(y, phi=0)$Xhat\n",
    "\n",
    "\n",
    "# message(\"bpca\")\n",
    "# Sys.time()\n",
    "# # From pcaMethods --------\n",
    "# y_bpca <- pca(y, nPcs=2, method=\"bpca\")\n",
    "# y_bpca <- completeObs(y_bpca)\n",
    "\n",
    "# saveRDS(list(y_rf, y_mice, y_em, y_bpca, y_lls), file=\"impute_HeLa_10_replicate_sOa_filter4obs_noNorm.rds\")"
   ]
  },
  {
   "cell_type": "code",
   "execution_count": 4,
   "metadata": {},
   "outputs": [
    {
     "name": "stderr",
     "output_type": "stream",
     "text": [
      "Running msImpute version 2\n",
      "\n",
      "Estimate distribution under MAR assumption\n",
      "\n",
      "rank is 2\n",
      "\n",
      "computing lambda0 ...\n",
      "\n",
      "lambda0 is 3.94062296185414\n",
      "\n",
      "fit the low-rank model ...\n",
      "\n",
      "model fitted. \n",
      "Imputting missing entries ...\n",
      "\n",
      "Imputation completed\n",
      "\n",
      "Compute barycenter of MAR and NMAR distributions v2-mnar\n",
      "\n"
     ]
    },
    {
     "name": "stdout",
     "output_type": "stream",
     "text": [
      "Cluster size 44517 broken into 27450 17067 \n",
      "Cluster size 27450 broken into 26558 892 \n",
      "Cluster size 26558 broken into 25889 669 \n",
      "Cluster size 25889 broken into 25192 697 \n",
      "Cluster size 25192 broken into 8383 16809 \n",
      "Cluster size 8383 broken into 5694 2689 \n",
      "Cluster size 5694 broken into 2386 3308 \n",
      "Cluster size 2386 broken into 1285 1101 \n",
      "Done cluster 1285 \n",
      "Done cluster 1101 \n",
      "Done cluster 2386 \n",
      "Cluster size 3308 broken into 2018 1290 \n",
      "Cluster size 2018 broken into 1625 393 \n",
      "Cluster size 1625 broken into 779 846 \n",
      "Done cluster 779 \n",
      "Done cluster 846 \n",
      "Done cluster 1625 \n",
      "Done cluster 393 \n",
      "Done cluster 2018 \n",
      "Done cluster 1290 \n",
      "Done cluster 3308 \n",
      "Done cluster 5694 \n",
      "Cluster size 2689 broken into 899 1790 \n",
      "Done cluster 899 \n",
      "Cluster size 1790 broken into 754 1036 \n",
      "Done cluster 754 \n",
      "Done cluster 1036 \n",
      "Done cluster 1790 \n",
      "Done cluster 2689 \n",
      "Done cluster 8383 \n",
      "Cluster size 16809 broken into 15558 1251 \n",
      "Cluster size 15558 broken into 8535 7023 \n",
      "Cluster size 8535 broken into 4137 4398 \n",
      "Cluster size 4137 broken into 68 4069 \n",
      "Done cluster 68 \n",
      "Cluster size 4069 broken into 4024 45 \n",
      "Cluster size 4024 broken into 2051 1973 \n",
      "Cluster size 2051 broken into 1032 1019 \n",
      "Done cluster 1032 \n",
      "Done cluster 1019 \n",
      "Done cluster 2051 \n",
      "Cluster size 1973 broken into 923 1050 \n",
      "Done cluster 923 \n",
      "Done cluster 1050 \n",
      "Done cluster 1973 \n",
      "Done cluster 4024 \n",
      "Done cluster 45 \n",
      "Done cluster 4069 \n",
      "Done cluster 4137 \n",
      "Cluster size 4398 broken into 2668 1730 \n",
      "Cluster size 2668 broken into 2515 153 \n",
      "Cluster size 2515 broken into 1285 1230 \n",
      "Done cluster 1285 \n",
      "Done cluster 1230 \n",
      "Done cluster 2515 \n",
      "Done cluster 153 \n",
      "Done cluster 2668 \n",
      "Cluster size 1730 broken into 92 1638 \n",
      "Done cluster 92 \n",
      "Cluster size 1638 broken into 574 1064 \n",
      "Done cluster 574 \n",
      "Done cluster 1064 \n",
      "Done cluster 1638 \n",
      "Done cluster 1730 \n",
      "Done cluster 4398 \n",
      "Done cluster 8535 \n",
      "Cluster size 7023 broken into 508 6515 \n",
      "Done cluster 508 \n",
      "Cluster size 6515 broken into 425 6090 \n",
      "Done cluster 425 \n",
      "Cluster size 6090 broken into 449 5641 \n",
      "Done cluster 449 \n",
      "Cluster size 5641 broken into 5216 425 \n",
      "Cluster size 5216 broken into 4877 339 \n",
      "Cluster size 4877 broken into 3343 1534 \n",
      "Cluster size 3343 broken into 1883 1460 \n",
      "Cluster size 1883 broken into 958 925 \n",
      "Done cluster 958 \n",
      "Done cluster 925 \n",
      "Done cluster 1883 \n",
      "Done cluster 1460 \n",
      "Done cluster 3343 \n",
      "Cluster size 1534 broken into 561 973 \n",
      "Done cluster 561 \n",
      "Done cluster 973 \n",
      "Done cluster 1534 \n",
      "Done cluster 4877 \n",
      "Done cluster 339 \n",
      "Done cluster 5216 \n",
      "Done cluster 425 \n",
      "Done cluster 5641 \n",
      "Done cluster 6090 \n",
      "Done cluster 6515 \n",
      "Done cluster 7023 \n",
      "Done cluster 15558 \n",
      "Done cluster 1251 \n",
      "Done cluster 16809 \n",
      "Done cluster 25192 \n",
      "Done cluster 697 \n",
      "Done cluster 25889 \n",
      "Done cluster 669 \n",
      "Done cluster 26558 \n",
      "Done cluster 892 \n",
      "Done cluster 27450 \n",
      "Cluster size 17067 broken into 7826 9241 \n",
      "Cluster size 7826 broken into 3711 4115 \n",
      "Cluster size 3711 broken into 1081 2630 \n",
      "Done cluster 1081 \n",
      "Cluster size 2630 broken into 1398 1232 \n",
      "Done cluster 1398 \n",
      "Done cluster 1232 \n",
      "Done cluster 2630 \n",
      "Done cluster 3711 \n",
      "Cluster size 4115 broken into 1911 2204 \n",
      "Cluster size 1911 broken into 704 1207 \n",
      "Done cluster 704 \n",
      "Done cluster 1207 \n",
      "Done cluster 1911 \n",
      "Cluster size 2204 broken into 886 1318 \n",
      "Done cluster 886 \n",
      "Done cluster 1318 \n",
      "Done cluster 2204 \n",
      "Done cluster 4115 \n",
      "Done cluster 7826 \n",
      "Cluster size 9241 broken into 6151 3090 \n",
      "Cluster size 6151 broken into 1521 4630 \n",
      "Cluster size 1521 broken into 723 798 \n",
      "Done cluster 723 \n",
      "Done cluster 798 \n",
      "Done cluster 1521 \n",
      "Cluster size 4630 broken into 1124 3506 \n",
      "Done cluster 1124 \n",
      "Cluster size 3506 broken into 2437 1069 \n",
      "Cluster size 2437 broken into 1183 1254 \n",
      "Done cluster 1183 \n",
      "Done cluster 1254 \n",
      "Done cluster 2437 \n",
      "Done cluster 1069 \n",
      "Done cluster 3506 \n",
      "Done cluster 4630 \n",
      "Done cluster 6151 \n",
      "Cluster size 3090 broken into 1845 1245 \n",
      "Cluster size 1845 broken into 1297 548 \n",
      "Done cluster 1297 \n",
      "Done cluster 548 \n",
      "Done cluster 1845 \n",
      "Done cluster 1245 \n",
      "Done cluster 3090 \n",
      "Done cluster 9241 \n",
      "Done cluster 17067 \n"
     ]
    }
   ],
   "source": [
    "group <- as.factor(rep(1:2, each = 5))\n",
    "\n",
    "\n",
    "y_msImpute <- msImpute(y, \n",
    "                       rank.max = 2,\n",
    "                       method = \"v2-mnar\",\n",
    "                       group = group\n",
    "                       )\n",
    "\n",
    "\n",
    "\n",
    "\n",
    "\n",
    "\n",
    "\n",
    "y_MLE <- impute.wrapper.MLE(y)\n",
    "y_impSeq <- impSeq(y)\n",
    "y_knn <- impute.wrapper.KNN(y, K = 15)\n",
    "\n",
    "y_perseus <- impute.perseus(y)\n",
    "\n",
    "sOa_imps <- readRDS(\"/stornext/Home/data/allstaff/h/hediyehzadeh.s/softImpute_low_rank_experimentation/impute_HeLa_10_replicate_sOa_filter4obs_noNorm.rds\")\n",
    "\n",
    "\n",
    "\n",
    "names(sOa_imps) <- c(\"RF\",\"Mice\",\"EM\",\"BPCA\",\"LLS\")\n",
    "\n",
    "sOa_imps <- sOa_imps[c(\"RF\",\"Mice\",\"EM\",\"BPCA\")]\n",
    "\n",
    "\n",
    "mats <- list(\n",
    "             \"KNN\"= y_knn,\n",
    "             \n",
    "             \"impSeq\" = y_impSeq,\n",
    "             \n",
    "             \"barycenter\" = y_msImpute, \n",
    "             \n",
    "             \"baseline\" = y)\n",
    "\n",
    "\n",
    "\n",
    "\n",
    "\n",
    "mats <- c(sOa_imps, mats)"
   ]
  },
  {
   "cell_type": "markdown",
   "metadata": {},
   "source": [
    "### Differential abundance"
   ]
  },
  {
   "cell_type": "code",
   "execution_count": 5,
   "metadata": {},
   "outputs": [
    {
     "name": "stderr",
     "output_type": "stream",
     "text": [
      "processing RF\n",
      "\n"
     ]
    },
    {
     "name": "stdout",
     "output_type": "stream",
     "text": [
      "       (Intercept) group2\n",
      "Down             0   1479\n",
      "NotSig           0  42387\n",
      "Up           44517    651\n"
     ]
    },
    {
     "name": "stderr",
     "output_type": "stream",
     "text": [
      "processing Mice\n",
      "\n"
     ]
    },
    {
     "name": "stdout",
     "output_type": "stream",
     "text": [
      "       (Intercept) group2\n",
      "Down             0      0\n",
      "NotSig           0  44515\n",
      "Up           44517      2\n"
     ]
    },
    {
     "name": "stderr",
     "output_type": "stream",
     "text": [
      "processing EM\n",
      "\n"
     ]
    },
    {
     "name": "stdout",
     "output_type": "stream",
     "text": [
      "       (Intercept) group2\n",
      "Down             0      0\n",
      "NotSig           0  44517\n",
      "Up           44517      0\n"
     ]
    },
    {
     "name": "stderr",
     "output_type": "stream",
     "text": [
      "processing BPCA\n",
      "\n"
     ]
    },
    {
     "name": "stdout",
     "output_type": "stream",
     "text": [
      "       (Intercept) group2\n",
      "Down             0      0\n",
      "NotSig           0  44517\n",
      "Up           44517      0\n"
     ]
    },
    {
     "name": "stderr",
     "output_type": "stream",
     "text": [
      "processing KNN\n",
      "\n"
     ]
    },
    {
     "name": "stdout",
     "output_type": "stream",
     "text": [
      "       (Intercept) group2\n",
      "Down             0      0\n",
      "NotSig           0  44517\n",
      "Up           44517      0\n"
     ]
    },
    {
     "name": "stderr",
     "output_type": "stream",
     "text": [
      "processing impSeq\n",
      "\n"
     ]
    },
    {
     "name": "stdout",
     "output_type": "stream",
     "text": [
      "       (Intercept) group2\n",
      "Down             0      0\n",
      "NotSig           0  44517\n",
      "Up           44517      0\n"
     ]
    },
    {
     "name": "stderr",
     "output_type": "stream",
     "text": [
      "processing barycenter\n",
      "\n"
     ]
    },
    {
     "name": "stdout",
     "output_type": "stream",
     "text": [
      "       (Intercept) group2\n",
      "Down             0      1\n",
      "NotSig           0  44516\n",
      "Up           44517      0\n"
     ]
    },
    {
     "name": "stderr",
     "output_type": "stream",
     "text": [
      "processing baseline\n",
      "\n"
     ]
    },
    {
     "name": "stdout",
     "output_type": "stream",
     "text": [
      "       (Intercept) group2\n",
      "Down             0     36\n",
      "NotSig           0  44222\n",
      "Up           44517     18\n"
     ]
    },
    {
     "name": "stderr",
     "output_type": "stream",
     "text": [
      "`stat_bin()` using `bins = 30`. Pick better value with `binwidth`.\n",
      "\n"
     ]
    },
    {
     "data": {
      "image/png": "[encoded data removed]",
      "text/plain": [
       "plot without title"
      ]
     },
     "metadata": {
      "image/png": {
       "height": 500,
       "width": 600
      }
     },
     "output_type": "display_data"
    }
   ],
   "source": [
    "fig.size(5,6)\n",
    "\n",
    "\n",
    "design <- model.matrix(~ group)\n",
    "\n",
    "n_ups <- 500\n",
    "\n",
    "\n",
    "\n",
    "fullTables <- list()\n",
    "\n",
    "for(i in seq_along(mats)){\n",
    "  message(\"processing \", names(mats)[i])\n",
    "   E <- normalizeBetweenArrays(mats[[i]], method = \"quantile\")\n",
    "\n",
    "   fit <- lmFit(E, design = design)\n",
    "\n",
    "   fit <- eBayes(fit)\n",
    "   print(summary(decideTests(fit)))\n",
    "\n",
    "  \n",
    "  \n",
    "  \n",
    "  \n",
    "\n",
    "  fullTables[[names(mats)[i]]] <- fit$p.value[,2]\n",
    "  \n",
    "\n",
    "}\n",
    "\n",
    "\n",
    "\n",
    "fullTables <- do.call(rbind, fullTables)\n",
    "fullTables <- t(fullTables)\n",
    "\n",
    "fullTables <- reshape2::melt(fullTables)\n",
    "\n",
    "fullTables <- fullTables[grep(\"KNN|baseline\", fullTables$Var2, invert = TRUE),]\n",
    "\n",
    "\n",
    "library(ggplot2)\n",
    "\n",
    "# png(file = \"~/msImpute_pval_under_null.png\", width=8,height=5,units=\"in\",res=1200)\n",
    "p <- ggplot(fullTables, aes(x=value)) +\n",
    "  geom_histogram(fill = \"#1F78B4\", color = \"black\") +\n",
    "  facet_wrap(.~Var2, scales = \"free_x\") + \n",
    "  theme_minimal() +\n",
    "  theme(plot.title = element_text(hjust = 0.5), \n",
    "        axis.text=element_text(colour=\"black\", size = 11),\n",
    "        axis.title = element_text(colour=\"black\", size = 14),\n",
    "        axis.ticks = element_line(colour = \"black\"),\n",
    "        axis.line = element_line(colour = \"black\"),\n",
    "        panel.grid.major = element_blank(), panel.grid.minor = element_blank(),\n",
    "panel.background = element_blank(),\n",
    "strip.text.x = element_text(size = 14)\n",
    "        ) +\n",
    "  xlab(\"Pvalue\")\n",
    "\n",
    "# print(p)\n",
    "# dev.off()\n",
    "p"
   ]
  },
  {
   "cell_type": "markdown",
   "metadata": {},
   "source": [
    "### session information"
   ]
  },
  {
   "cell_type": "code",
   "execution_count": 6,
   "metadata": {},
   "outputs": [
    {
     "data": {
      "text/plain": [
       "R version 4.1.2 (2021-11-01)\n",
       "Platform: x86_64-pc-linux-gnu (64-bit)\n",
       "Running under: CentOS Linux 7 (Core)\n",
       "\n",
       "Matrix products: default\n",
       "BLAS:   /stornext/System/data/apps/R/R-4.1.2/lib64/R/lib/libRblas.so\n",
       "LAPACK: /stornext/System/data/apps/R/R-4.1.2/lib64/R/lib/libRlapack.so\n",
       "\n",
       "locale:\n",
       " [1] LC_CTYPE=en_US.UTF-8       LC_NUMERIC=C              \n",
       " [3] LC_TIME=en_US.UTF-8        LC_COLLATE=en_US.UTF-8    \n",
       " [5] LC_MONETARY=en_US.UTF-8    LC_MESSAGES=en_US.UTF-8   \n",
       " [7] LC_PAPER=en_US.UTF-8       LC_NAME=C                 \n",
       " [9] LC_ADDRESS=C               LC_TELEPHONE=C            \n",
       "[11] LC_MEASUREMENT=en_US.UTF-8 LC_IDENTIFICATION=C       \n",
       "\n",
       "attached base packages:\n",
       "[1] parallel  stats4    stats     graphics  grDevices utils     datasets \n",
       "[8] methods   base     \n",
       "\n",
       "other attached packages:\n",
       " [1] ggplot2_3.3.4       msImpute_1.3.3      imputeLCMD_2.0     \n",
       " [4] impute_1.66.0       pcaMethods_1.84.0   Biobase_2.52.0     \n",
       " [7] BiocGenerics_0.38.0 norm_1.0-9.5        tmvtnorm_1.4-10    \n",
       "[10] gmm_1.6-6           sandwich_3.0-1      Matrix_1.3-4       \n",
       "[13] mvtnorm_1.1-2       rrcovNA_0.4-15      rrcov_1.5-5        \n",
       "[16] robustbase_0.93-8   limma_3.48.0       \n",
       "\n",
       "loaded via a namespace (and not attached):\n",
       "  [1] colorspace_2.0-1            ellipsis_0.3.2             \n",
       "  [3] rprojroot_2.0.2             IRdisplay_1.1.0.9000       \n",
       "  [5] scuttle_1.2.0               bluster_1.2.1              \n",
       "  [7] XVector_0.32.0              GenomicRanges_1.44.0       \n",
       "  [9] base64enc_0.1-3             BiocNeighbors_1.10.0       \n",
       " [11] fs_1.5.0                    rstudioapi_0.13            \n",
       " [13] farver_2.1.0                remotes_2.4.0              \n",
       " [15] fansi_0.5.0                 sparseMatrixStats_1.4.0    \n",
       " [17] cachem_1.0.5                pkgload_1.2.1              \n",
       " [19] IRkernel_1.3.0.9000         jsonlite_1.7.2             \n",
       " [21] Cairo_1.5-12.2              cluster_2.1.2              \n",
       " [23] png_0.1-7                   compiler_4.1.2             \n",
       " [25] dqrng_0.3.0                 fastmap_1.1.0              \n",
       " [27] cli_2.5.0                   BiocSingular_1.8.1         \n",
       " [29] htmltools_0.5.1.1           prettyunits_1.1.1          \n",
       " [31] tools_4.1.2                 rsvd_1.0.5                 \n",
       " [33] igraph_1.2.6                gtable_0.3.0               \n",
       " [35] glue_1.4.2                  GenomeInfoDbData_1.2.6     \n",
       " [37] reshape2_1.4.4              dplyr_1.0.6                \n",
       " [39] Rcpp_1.0.7                  softImpute_1.4-1           \n",
       " [41] vctrs_0.3.8                 DelayedMatrixStats_1.14.0  \n",
       " [43] stringr_1.4.0               ps_1.6.0                   \n",
       " [45] testthat_3.0.2              beachmat_2.8.0             \n",
       " [47] lifecycle_1.0.0             irlba_2.3.3                \n",
       " [49] devtools_2.4.2              statmod_1.4.36             \n",
       " [51] edgeR_3.34.0                DEoptimR_1.0-9             \n",
       " [53] scales_1.1.1                zlibbioc_1.38.0            \n",
       " [55] zoo_1.8-9                   MatrixGenerics_1.4.0       \n",
       " [57] SummarizedExperiment_1.22.0 SingleCellExperiment_1.14.1\n",
       " [59] memoise_2.0.0               reticulate_1.20            \n",
       " [61] stringi_1.6.2               S4Vectors_0.30.0           \n",
       " [63] desc_1.3.0                  pcaPP_1.9-74               \n",
       " [65] ScaledMatrix_1.0.0          scran_1.20.1               \n",
       " [67] pkgbuild_1.2.0              BiocParallel_1.26.0        \n",
       " [69] repr_1.1.4.9000             GenomeInfoDb_1.28.0        \n",
       " [71] rlang_0.4.11                pkgconfig_2.0.3            \n",
       " [73] matrixStats_0.59.0          bitops_1.0-7               \n",
       " [75] evaluate_0.14               lattice_0.20-45            \n",
       " [77] purrr_0.3.4                 labeling_0.4.2             \n",
       " [79] pdist_1.2                   processx_3.5.2             \n",
       " [81] tidyselect_1.1.1            plyr_1.8.6                 \n",
       " [83] magrittr_2.0.1              R6_2.5.0                   \n",
       " [85] IRanges_2.26.0              generics_0.1.0             \n",
       " [87] metapod_1.0.0               pbdZMQ_0.3-6               \n",
       " [89] DelayedArray_0.18.0         pillar_1.6.1               \n",
       " [91] withr_2.4.2                 RCurl_1.98-1.3             \n",
       " [93] tibble_3.1.2                crayon_1.4.1               \n",
       " [95] uuid_1.0-3                  utf8_1.2.1                 \n",
       " [97] usethis_2.0.1               locfit_1.5-9.4             \n",
       " [99] grid_4.1.2                  data.table_1.14.0          \n",
       "[101] FNN_1.1.3                   callr_3.7.0                \n",
       "[103] digest_0.6.27               tidyr_1.1.3                \n",
       "[105] munsell_0.5.0               sessioninfo_1.1.1          "
      ]
     },
     "metadata": {},
     "output_type": "display_data"
    }
   ],
   "source": [
    "sessionInfo()"
   ]
  }
 ],
 "metadata": {
  "kernelspec": {
   "display_name": "R 4.1.2",
   "language": "R",
   "name": "ir41"
  },
  "language_info": {
   "codemirror_mode": "r",
   "file_extension": ".r",
   "mimetype": "text/x-r-source",
   "name": "R",
   "pygments_lexer": "r",
   "version": "4.1.2"
  }
 },
 "nbformat": 4,
 "nbformat_minor": 4
}
